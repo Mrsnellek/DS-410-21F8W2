{
 "cells": [
  {
   "cell_type": "markdown",
   "id": "3ccd35ff",
   "metadata": {},
   "source": [
    "The contents of this course including lectures, labs, homework assignments, and exams have all been adapted from the [Data 8 course at University California Berkley](https://data.berkeley.edu/education/courses/data-8). Through their generosity and passion for undergraduate education, the Data 8 community at Berkley has opened their content and expertise for other universities to adapt in the name of undergraduate education."
   ]
  },
  {
   "cell_type": "code",
   "execution_count": 1,
   "id": "cb1c4110",
   "metadata": {},
   "outputs": [],
   "source": [
    "#!pip install datascience\n",
    "from datascience import *\n",
    "import numpy as np\n",
    "\n",
    "%matplotlib inline\n",
    "import matplotlib.pyplot as plots\n",
    "plots.style.use('fivethirtyeight')"
   ]
  },
  {
   "cell_type": "markdown",
   "id": "f7c7ea4d",
   "metadata": {},
   "source": [
    "# Chapter 13: Estimation\n",
    "\n",
    "In this chapter, we will develop a way to estimate an unknown parameter. Remember that a parameter is a numerical value associated with a population.\n",
    "\n",
    "A statistic based on a random sample can be a reasonable estimate of an unknown parameter in the population. For example, you might want to use the median annual income of sampled households as an estimate of the median annual income of all households in the U.S.\n",
    "\n",
    "But the value of any statistic depends on the sample, and the sample is based on random draws. So every time data scientists come up with an estimate based on a random sample, they are faced with a question:\n",
    "\n",
    "**“How different could this estimate have been, if the sample had come out differently?”**\n",
    "\n",
    "* Numerical data can be ranked.  Sorted in increasing or decreasing order\n",
    "* Precentiles are used to rank how many numbers are above or below a given value\n",
    "* If you score in 95th percentile on a test, you can conclude that 5% of the scores were higher than yours.\n",
    "* What if everyone scored 75% on a test, how would you rank the precentiles?  Who scored in the 50% or 95% precentiles?\n",
    "* We need a definition of precentiles that works consistently for all ranks and all lists.\n",
    "\n",
    "\n",
    "* We will define the 80th percentile of a collection of values to be the smallest value in the collection that is at least as large as 80% of all of the values.\n",
    "\n",
    "For example, let’s consider the sizes of the five largest continents – Africa, Antarctica, Asia, North America, and South America – rounded to the nearest million square miles."
   ]
  },
  {
   "cell_type": "code",
   "execution_count": 2,
   "id": "6fe2d90b",
   "metadata": {},
   "outputs": [],
   "source": [
    "sizes = make_array(12, 17, 6, 9, 7)"
   ]
  },
  {
   "cell_type": "markdown",
   "id": "28c66dbc",
   "metadata": {},
   "source": [
    "The 80th percentile is the smallest value that is at least as large as 80% of the elements of sizes, that is, four-fifths of the five elements. That’s 12:"
   ]
  },
  {
   "cell_type": "code",
   "execution_count": 3,
   "id": "68ee3d1f",
   "metadata": {},
   "outputs": [
    {
     "data": {
      "text/plain": [
       "array([ 6,  7,  9, 12, 17], dtype=int64)"
      ]
     },
     "execution_count": 3,
     "metadata": {},
     "output_type": "execute_result"
    }
   ],
   "source": [
    "np.sort(sizes)"
   ]
  },
  {
   "cell_type": "markdown",
   "id": "56cdd26d",
   "metadata": {},
   "source": [
    "The 80th percentile is a value on the list, namely 12. You can see that 80% of the values are less than or equal to it, and that it is the smallest value on the list for which this is true."
   ]
  },
  {
   "cell_type": "markdown",
   "id": "b62eaaed",
   "metadata": {},
   "source": [
    "The percentile function takes two arguments: a rank between 0 and 100, and a array. It returns the corresponding percentile of the array."
   ]
  },
  {
   "cell_type": "code",
   "execution_count": 4,
   "id": "f054b9e5",
   "metadata": {},
   "outputs": [
    {
     "data": {
      "text/plain": [
       "12"
      ]
     },
     "execution_count": 4,
     "metadata": {},
     "output_type": "execute_result"
    }
   ],
   "source": [
    "percentile(70, sizes)"
   ]
  },
  {
   "cell_type": "markdown",
   "id": "75997a64",
   "metadata": {},
   "source": [
    "#### A General Definition of Precentiles\n",
    "\n",
    "Let be a number between 0 and 100. The ***pth** percentile of a collection is the smallest value in the collection that is at least as large as p% of all the values.\n",
    "\n",
    "By this definition, any percentile between 0 and 100 can be computed for any collection of values, and it is always an element of the collection.\n",
    "\n",
    "In practical terms, suppose there are ***n*** elements in the collection. To find the ***pth*** percentile:\n",
    "\n",
    "* Sort the collection in increasing order.\n",
    "* Find p% of n: (p/100) X n.  Call that ***k***\n",
    "* If ***k*** is an integer, take the ***kth*** element of the sorted collection.\n",
    "* If ***k*** is not an integer, round it up to the next integer, and take that element of the sorted collection.\n",
    "\n",
    "\n",
    "The table scores_and_sections contains one row for each student in a class of 359 students. The columns are the student’s discussion section and midterm score."
   ]
  },
  {
   "cell_type": "code",
   "execution_count": 6,
   "id": "9c382b74",
   "metadata": {},
   "outputs": [
    {
     "data": {
      "text/html": [
       "<table border=\"1\" class=\"dataframe\">\n",
       "    <thead>\n",
       "        <tr>\n",
       "            <th>Section</th> <th>Midterm</th>\n",
       "        </tr>\n",
       "    </thead>\n",
       "    <tbody>\n",
       "        <tr>\n",
       "            <td>1      </td> <td>22     </td>\n",
       "        </tr>\n",
       "        <tr>\n",
       "            <td>2      </td> <td>12     </td>\n",
       "        </tr>\n",
       "        <tr>\n",
       "            <td>2      </td> <td>23     </td>\n",
       "        </tr>\n",
       "        <tr>\n",
       "            <td>2      </td> <td>14     </td>\n",
       "        </tr>\n",
       "        <tr>\n",
       "            <td>1      </td> <td>20     </td>\n",
       "        </tr>\n",
       "        <tr>\n",
       "            <td>3      </td> <td>25     </td>\n",
       "        </tr>\n",
       "        <tr>\n",
       "            <td>4      </td> <td>19     </td>\n",
       "        </tr>\n",
       "        <tr>\n",
       "            <td>1      </td> <td>24     </td>\n",
       "        </tr>\n",
       "        <tr>\n",
       "            <td>5      </td> <td>8      </td>\n",
       "        </tr>\n",
       "        <tr>\n",
       "            <td>6      </td> <td>14     </td>\n",
       "        </tr>\n",
       "    </tbody>\n",
       "</table>\n",
       "<p>... (349 rows omitted)</p>"
      ],
      "text/plain": [
       "Section | Midterm\n",
       "1       | 22\n",
       "2       | 12\n",
       "2       | 23\n",
       "2       | 14\n",
       "1       | 20\n",
       "3       | 25\n",
       "4       | 19\n",
       "1       | 24\n",
       "5       | 8\n",
       "6       | 14\n",
       "... (349 rows omitted)"
      ]
     },
     "execution_count": 6,
     "metadata": {},
     "output_type": "execute_result"
    }
   ],
   "source": [
    "scores_and_sections = Table.read_table('scores_by_section.csv')\n",
    "scores_and_sections"
   ]
  },
  {
   "cell_type": "code",
   "execution_count": 7,
   "id": "96e53a1b",
   "metadata": {},
   "outputs": [
    {
     "data": {
      "image/png": "[encoded data removed]",
      "text/plain": [
       "<Figure size 432x288 with 1 Axes>"
      ]
     },
     "metadata": {},
     "output_type": "display_data"
    }
   ],
   "source": [
    "scores_and_sections.select('Midterm').hist(bins=np.arange(-0.5, 25.6, 1))"
   ]
  },
  {
   "cell_type": "markdown",
   "id": "73d1ef34",
   "metadata": {},
   "source": [
    "What was the 85th percentile of the scores?"
   ]
  },
  {
   "cell_type": "code",
   "execution_count": 8,
   "id": "49b2c4de",
   "metadata": {},
   "outputs": [
    {
     "data": {
      "text/plain": [
       "22"
      ]
     },
     "execution_count": 8,
     "metadata": {},
     "output_type": "execute_result"
    }
   ],
   "source": [
    "scores = scores_and_sections.column(1)\n",
    "percentile(85, scores)"
   ]
  },
  {
   "cell_type": "markdown",
   "id": "fdb1552d",
   "metadata": {},
   "source": [
    "According to the percentile function, the 85th percentile was 22. To check that this is consistent with our new definition, let’s apply the definition directly.\n",
    "\n",
    "First, put the scores in increasing order:"
   ]
  },
  {
   "cell_type": "code",
   "execution_count": 9,
   "id": "c259e214",
   "metadata": {},
   "outputs": [],
   "source": [
    "sorted_scores = np.sort(scores_and_sections.column(1))"
   ]
  },
  {
   "cell_type": "code",
   "execution_count": 10,
   "id": "56386738",
   "metadata": {},
   "outputs": [
    {
     "data": {
      "text/plain": [
       "305.15"
      ]
     },
     "execution_count": 10,
     "metadata": {},
     "output_type": "execute_result"
    }
   ],
   "source": [
    "0.85 * 359"
   ]
  },
  {
   "cell_type": "markdown",
   "id": "3c15ea0b",
   "metadata": {},
   "source": [
    "That’s not an integer. By our definition, the 85th percentile is the 306th element of sorted_scores, which, by Python’s indexing convention, is item 305 of the array."
   ]
  },
  {
   "cell_type": "code",
   "execution_count": 11,
   "id": "db2bd1bf",
   "metadata": {},
   "outputs": [
    {
     "data": {
      "text/plain": [
       "22"
      ]
     },
     "execution_count": 11,
     "metadata": {},
     "output_type": "execute_result"
    }
   ],
   "source": [
    "sorted_scores.item(305)"
   ]
  },
  {
   "cell_type": "markdown",
   "id": "9357b404",
   "metadata": {},
   "source": [
    "#### Quartiles\n",
    "\n",
    "The first quartile of a numercial collection is the 25th percentile. The terminology arises from the first quarter. The second quartile is the median, and the third quartile is the 75th percentile."
   ]
  },
  {
   "cell_type": "code",
   "execution_count": 12,
   "id": "eef9e789",
   "metadata": {},
   "outputs": [
    {
     "data": {
      "text/plain": [
       "11"
      ]
     },
     "execution_count": 12,
     "metadata": {},
     "output_type": "execute_result"
    }
   ],
   "source": [
    "percentile(25, scores)"
   ]
  },
  {
   "cell_type": "code",
   "execution_count": 13,
   "id": "bdfac765",
   "metadata": {},
   "outputs": [
    {
     "data": {
      "text/plain": [
       "16"
      ]
     },
     "execution_count": 13,
     "metadata": {},
     "output_type": "execute_result"
    }
   ],
   "source": [
    "percentile(50, scores)"
   ]
  },
  {
   "cell_type": "code",
   "execution_count": 14,
   "id": "cd2e5d70",
   "metadata": {},
   "outputs": [
    {
     "data": {
      "text/plain": [
       "20"
      ]
     },
     "execution_count": 14,
     "metadata": {},
     "output_type": "execute_result"
    }
   ],
   "source": [
    "percentile(75, scores)"
   ]
  },
  {
   "cell_type": "markdown",
   "id": "0e9927bf",
   "metadata": {},
   "source": [
    "### The Bootstrap\n",
    "\n",
    "* A data scientist uses data in a random sample to estimate an unknown parameter uses the sample to calculate the value of a statistic. \n",
    "* But a random sample is just one of numerous possible random samples, and thus the estimate is just one of numerous plausible estimates\n",
    "* By how much could those estimates vary? To answer this, we need to draw another sample from the population, and compute a new estimate based on the new sample\n",
    "* But we doen’t always have the resources to go back to the population and draw another sample\n",
    "* Bootstrap method to the rescue!\n",
    "* Bootstrap generates new random samples by a method called resampling: the new samples are drawn at random from the original sample."
   ]
  },
  {
   "cell_type": "markdown",
   "id": "9d50a36c",
   "metadata": {},
   "source": [
    "#### Case Study: Employee Compensation in the Fort Collins\n",
    "\n",
    "[Colorado Information Marketplace](https://data.colorado.gov/) is a website where Colorado makes some of their data publicly available. One of the data sets contains compensation data for employees of the city of Fort Collins. These include medical professionals at City-run hospitals, police officers, fire fighters, transportation workers, elected officials, and all other employees of the Fort Collins.\n",
    "\n",
    "Compensation data for the calendar year 2020 are in the table fc2020."
   ]
  },
  {
   "cell_type": "code",
   "execution_count": 38,
   "id": "95b9a4fe",
   "metadata": {},
   "outputs": [
    {
     "data": {
      "text/html": [
       "<table border=\"1\" class=\"dataframe\">\n",
       "    <thead>\n",
       "        <tr>\n",
       "            <th>Job Title</th> <th>Department</th> <th>Service Area</th> <th>Annual Salary</th>\n",
       "        </tr>\n",
       "    </thead>\n",
       "    <tbody>\n",
       "        <tr>\n",
       "            <td>City Manager                </td> <td>City Manager's Office </td> <td>Executive Services</td> <td>278475       </td>\n",
       "        </tr>\n",
       "        <tr>\n",
       "            <td>Broadband Executive Director</td> <td>Broadband             </td> <td>Utility Services  </td> <td>248000       </td>\n",
       "        </tr>\n",
       "        <tr>\n",
       "            <td>City Attorney               </td> <td>City Attorney's Office</td> <td>Legal Services    </td> <td>206090       </td>\n",
       "        </tr>\n",
       "    </tbody>\n",
       "</table>\n",
       "<p>... (1890 rows omitted)</p>"
      ],
      "text/plain": [
       "<IPython.core.display.HTML object>"
      ]
     },
     "metadata": {},
     "output_type": "display_data"
    }
   ],
   "source": [
    "fc2020 = Table.read_table('2020_Fort_Collins_City_Employee_Base_Pay.csv')\n",
    "fc2020.show(3)"
   ]
  },
  {
   "cell_type": "code",
   "execution_count": 39,
   "id": "075ae1f1",
   "metadata": {},
   "outputs": [
    {
     "data": {
      "text/html": [
       "<table border=\"1\" class=\"dataframe\">\n",
       "    <thead>\n",
       "        <tr>\n",
       "            <th>Job Title</th> <th>Department</th> <th>Service Area</th> <th>Annual Salary</th>\n",
       "        </tr>\n",
       "    </thead>\n",
       "    <tbody>\n",
       "        <tr>\n",
       "            <td>City Manager</td> <td>City Manager's Office</td> <td>Executive Services</td> <td>278475       </td>\n",
       "        </tr>\n",
       "    </tbody>\n",
       "</table>"
      ],
      "text/plain": [
       "Job Title    | Department            | Service Area       | Annual Salary\n",
       "City Manager | City Manager's Office | Executive Services | 278475"
      ]
     },
     "execution_count": 39,
     "metadata": {},
     "output_type": "execute_result"
    }
   ],
   "source": [
    "fc2020.where('Job Title', 'City Manager')"
   ]
  },
  {
   "cell_type": "code",
   "execution_count": 42,
   "id": "0d913b7b",
   "metadata": {},
   "outputs": [
    {
     "data": {
      "text/html": [
       "<table border=\"1\" class=\"dataframe\">\n",
       "    <thead>\n",
       "        <tr>\n",
       "            <th>Job Title</th> <th>Department</th> <th>Service Area</th> <th>Annual Salary</th>\n",
       "        </tr>\n",
       "    </thead>\n",
       "    <tbody>\n",
       "        <tr>\n",
       "            <td>Answer Center Technician    </td> <td>Library District</td> <td>Library District </td> <td>16943.5      </td>\n",
       "        </tr>\n",
       "        <tr>\n",
       "            <td>Bailiff                     </td> <td>Municipal Court </td> <td>Judicial Services</td> <td>17846.4      </td>\n",
       "        </tr>\n",
       "        <tr>\n",
       "            <td>Homebound Services Assistant</td> <td>Library District</td> <td>Library District </td> <td>18209.9      </td>\n",
       "        </tr>\n",
       "        <tr>\n",
       "            <td>Asst Circulation Supervisor </td> <td>Library District</td> <td>Library District </td> <td>18516.9      </td>\n",
       "        </tr>\n",
       "        <tr>\n",
       "            <td>Deputy Court Clerk I        </td> <td>Municipal Court </td> <td>Judicial Services</td> <td>18988.3      </td>\n",
       "        </tr>\n",
       "        <tr>\n",
       "            <td>Asst Circulation Supervisor </td> <td>Library District</td> <td>Library District </td> <td>19068.7      </td>\n",
       "        </tr>\n",
       "        <tr>\n",
       "            <td>Asst Circulation Supervisor </td> <td>Library District</td> <td>Library District </td> <td>19083.7      </td>\n",
       "        </tr>\n",
       "        <tr>\n",
       "            <td>Asst Circulation Supervisor </td> <td>Library District</td> <td>Library District </td> <td>19651.6      </td>\n",
       "        </tr>\n",
       "        <tr>\n",
       "            <td>Answer Center Technician    </td> <td>Library District</td> <td>Library District </td> <td>20224.3      </td>\n",
       "        </tr>\n",
       "        <tr>\n",
       "            <td>Asst Circulation Supervisor </td> <td>Library District</td> <td>Library District </td> <td>20245.8      </td>\n",
       "        </tr>\n",
       "    </tbody>\n",
       "</table>\n",
       "<p>... (1883 rows omitted)</p>"
      ],
      "text/plain": [
       "Job Title                    | Department       | Service Area      | Annual Salary\n",
       "Answer Center Technician     | Library District | Library District  | 16943.5\n",
       "Bailiff                      | Municipal Court  | Judicial Services | 17846.4\n",
       "Homebound Services Assistant | Library District | Library District  | 18209.9\n",
       "Asst Circulation Supervisor  | Library District | Library District  | 18516.9\n",
       "Deputy Court Clerk I         | Municipal Court  | Judicial Services | 18988.3\n",
       "Asst Circulation Supervisor  | Library District | Library District  | 19068.7\n",
       "Asst Circulation Supervisor  | Library District | Library District  | 19083.7\n",
       "Asst Circulation Supervisor  | Library District | Library District  | 19651.6\n",
       "Answer Center Technician     | Library District | Library District  | 20224.3\n",
       "Asst Circulation Supervisor  | Library District | Library District  | 20245.8\n",
       "... (1883 rows omitted)"
      ]
     },
     "execution_count": 42,
     "metadata": {},
     "output_type": "execute_result"
    }
   ],
   "source": [
    "fc2020.sort('Annual Salary')"
   ]
  },
  {
   "cell_type": "code",
   "execution_count": 43,
   "id": "8a24702f",
   "metadata": {},
   "outputs": [
    {
     "data": {
      "text/plain": [
       "1893"
      ]
     },
     "execution_count": 43,
     "metadata": {},
     "output_type": "execute_result"
    }
   ],
   "source": [
    "fc2020.num_rows"
   ]
  },
  {
   "cell_type": "code",
   "execution_count": 45,
   "id": "7c9bb644",
   "metadata": {},
   "outputs": [
    {
     "data": {
      "image/png": "[encoded data removed]",
      "text/plain": [
       "<Figure size 432x288 with 1 Axes>"
      ]
     },
     "metadata": {},
     "output_type": "display_data"
    }
   ],
   "source": [
    "fc_bins = np.arange(0, 300000, 10000)\n",
    "fc2020.select('Annual Salary').hist(bins=fc_bins)"
   ]
  },
  {
   "cell_type": "code",
   "execution_count": 46,
   "id": "de8fc904",
   "metadata": {},
   "outputs": [
    {
     "data": {
      "text/html": [
       "<table border=\"1\" class=\"dataframe\">\n",
       "    <thead>\n",
       "        <tr>\n",
       "            <th>Job Title</th> <th>Department</th> <th>Service Area</th> <th>Annual Salary</th>\n",
       "        </tr>\n",
       "    </thead>\n",
       "    <tbody>\n",
       "        <tr>\n",
       "            <td>City Manager                </td> <td>City Manager's Office</td> <td>Executive Services</td> <td>278475       </td>\n",
       "        </tr>\n",
       "        <tr>\n",
       "            <td>Broadband Executive Director</td> <td>Broadband            </td> <td>Utility Services  </td> <td>248000       </td>\n",
       "        </tr>\n",
       "    </tbody>\n",
       "</table>\n",
       "<p>... (1891 rows omitted)</p>"
      ],
      "text/plain": [
       "<IPython.core.display.HTML object>"
      ]
     },
     "metadata": {},
     "output_type": "display_data"
    }
   ],
   "source": [
    "fc2020.sort('Annual Salary', descending=True).show(2)"
   ]
  },
  {
   "cell_type": "markdown",
   "id": "e18768ca",
   "metadata": {},
   "source": [
    "Suppose the parameter in which we are interested is the median of the total compensations.\n",
    "\n",
    "Since we have the luxury of having all of the data from the population, we can simply calculate the parameter:"
   ]
  },
  {
   "cell_type": "code",
   "execution_count": 48,
   "id": "6671d3b1",
   "metadata": {},
   "outputs": [
    {
     "data": {
      "text/plain": [
       "71847.03"
      ]
     },
     "execution_count": 48,
     "metadata": {},
     "output_type": "execute_result"
    }
   ],
   "source": [
    "pop_median = percentile(50, fc2020.column('Annual Salary'))\n",
    "pop_median"
   ]
  },
  {
   "cell_type": "markdown",
   "id": "3963e621",
   "metadata": {},
   "source": [
    "The median total compensation of all the employees was 135,747 dollars.\n",
    "\n",
    "From a practical perspective, there is no reason for us to draw a sample to estimate this parameter since we simply know its value. But in this section we are going to pretend we don’t know the value, and see how well we can estimate it based on a random sample.\n",
    "\n",
    "In later sections, we will come down to earth and work in situations where the parameter is unknown. For now, we are all-knowing."
   ]
  },
  {
   "cell_type": "markdown",
   "id": "046327d7",
   "metadata": {},
   "source": [
    "Let us draw a sample of 500 employees at random without replacement, and let the median total compensation of the sampled employees serve as our estimate of the parameter."
   ]
  },
  {
   "cell_type": "code",
   "execution_count": 55,
   "id": "f33bd03c",
   "metadata": {},
   "outputs": [
    {
     "data": {
      "image/png": "[encoded data removed]",
      "text/plain": [
       "<Figure size 432x288 with 1 Axes>"
      ]
     },
     "metadata": {},
     "output_type": "display_data"
    }
   ],
   "source": [
    "our_sample = fc2020.sample(500, with_replacement=False)\n",
    "our_sample.select('Annual Salary').hist(bins=fc_bins)"
   ]
  },
  {
   "cell_type": "code",
   "execution_count": 56,
   "id": "97965a09",
   "metadata": {},
   "outputs": [
    {
     "data": {
      "text/plain": [
       "73070.57"
      ]
     },
     "execution_count": 56,
     "metadata": {},
     "output_type": "execute_result"
    }
   ],
   "source": [
    "est_median = percentile(50, our_sample.column('Annual Salary'))\n",
    "est_median"
   ]
  },
  {
   "cell_type": "markdown",
   "id": "8691a2b6",
   "metadata": {},
   "source": [
    "* The above sample size is large. By the law of averages, the distribution of the sample resembles that of the population. \n",
    "* We have one estimate of the parameter \n",
    "* The estimate would have had a different value if we sampled from a different population. \n",
    "* Thw measure of variability between samples will help us measure how accurately we can estimate the parameter.\n",
    "* We could just draw another sample from the population and see how different the the parameter is. \n",
    "* But we are trying to mimic real life where we won’t have all the population data at hand.\n",
    "* What we do have is a large random sample from the population which is likely to resemble the population from which it is drawn. \n",
    "* This observation allows us to lift ourselves up by our bootstraps: the sampling procedure can be replicated by sampling from the sample.\n",
    "\n",
    "Here are the steps of the bootstrap method for generating another random sample that resembles the population:\n",
    "\n",
    "* Treat the original sample as if it were the population.\n",
    "* Draw from the sample, at random with replacement, the same number of times as the original sample size.\n",
    "\n",
    "\n",
    "* Recall that the sample method draws rows from a table with replacement by default, and when not specifying a sample size, the sample size equals the number of rows of the table. \n"
   ]
  },
  {
   "cell_type": "code",
   "execution_count": 57,
   "id": "221c7ad7",
   "metadata": {},
   "outputs": [],
   "source": [
    "resample_1 = our_sample.sample()"
   ]
  },
  {
   "cell_type": "code",
   "execution_count": 59,
   "id": "ea1c00a0",
   "metadata": {},
   "outputs": [
    {
     "data": {
      "image/png": "[encoded data removed]",
      "text/plain": [
       "<Figure size 432x288 with 1 Axes>"
      ]
     },
     "metadata": {},
     "output_type": "display_data"
    }
   ],
   "source": [
    "resample_1.select('Annual Salary').hist(bins=fc_bins)"
   ]
  },
  {
   "cell_type": "code",
   "execution_count": 61,
   "id": "eae05f8b",
   "metadata": {},
   "outputs": [
    {
     "data": {
      "text/plain": [
       "71760.0"
      ]
     },
     "execution_count": 61,
     "metadata": {},
     "output_type": "execute_result"
    }
   ],
   "source": [
    "resampled_median_1 = percentile(50, resample_1.column('Annual Salary'))\n",
    "resampled_median_1"
   ]
  },
  {
   "cell_type": "markdown",
   "id": "c0701f2f",
   "metadata": {},
   "source": [
    "This value is an estimate of the population median.\n",
    "\n",
    "By resampling again and again, we can get many such estimates, and hence an empirical distribution of the estimates."
   ]
  },
  {
   "cell_type": "code",
   "execution_count": 62,
   "id": "25c9f206",
   "metadata": {},
   "outputs": [
    {
     "data": {
      "text/plain": [
       "75505.41"
      ]
     },
     "execution_count": 62,
     "metadata": {},
     "output_type": "execute_result"
    }
   ],
   "source": [
    "resample_2 = our_sample.sample()\n",
    "resampled_median_2 = percentile(50, resample_2.column('Annual Salary'))\n",
    "resampled_median_2"
   ]
  },
  {
   "cell_type": "markdown",
   "id": "b46d3a4e",
   "metadata": {},
   "source": [
    "Let us collect this code and define a function one_bootstrap_median that returns one bootstrapped median of total compensation, based on bootstrapping the original random sample that we called our_sample."
   ]
  },
  {
   "cell_type": "code",
   "execution_count": 63,
   "id": "be65e528",
   "metadata": {},
   "outputs": [],
   "source": [
    "def one_bootstrap_median():\n",
    "    resampled_table = our_sample.sample()\n",
    "    bootstrapped_median = percentile(50, resampled_table.column('Annual Salary'))\n",
    "    return bootstrapped_median"
   ]
  },
  {
   "cell_type": "code",
   "execution_count": 71,
   "id": "9587b298",
   "metadata": {},
   "outputs": [
    {
     "data": {
      "text/plain": [
       "72294.13"
      ]
     },
     "execution_count": 71,
     "metadata": {},
     "output_type": "execute_result"
    }
   ],
   "source": [
    "one_bootstrap_median()"
   ]
  },
  {
   "cell_type": "markdown",
   "id": "5a7a6b64",
   "metadata": {},
   "source": [
    "We can now repeat the bootstrap process multiple times by running a for loop and appending the data as usual."
   ]
  },
  {
   "cell_type": "code",
   "execution_count": 74,
   "id": "45049503",
   "metadata": {},
   "outputs": [],
   "source": [
    "num_repetitions = 5000\n",
    "bstrap_medians = make_array()\n",
    "for i in np.arange(num_repetitions):\n",
    "    bstrap_medians = np.append(bstrap_medians, one_bootstrap_median())"
   ]
  },
  {
   "cell_type": "code",
   "execution_count": 78,
   "id": "0ebc5990",
   "metadata": {},
   "outputs": [
    {
     "data": {
      "image/png": "[encoded data removed]",
      "text/plain": [
       "<Figure size 432x288 with 1 Axes>"
      ]
     },
     "metadata": {},
     "output_type": "display_data"
    }
   ],
   "source": [
    "resampled_medians = Table().with_column('Bootstrap Sample Median', bstrap_medians)\n",
    "resampled_medians.hist()\n",
    "\n",
    "# Plotting parameters; you can ignore this code\n",
    "parameter_green = '#32CD32'\n",
    "plots.ylim(-0.000005, 0.00014)\n",
    "plots.scatter(pop_median, 0, color=parameter_green, s=40, zorder=2);"
   ]
  },
  {
   "cell_type": "markdown",
   "id": "c1a4248b",
   "metadata": {},
   "source": [
    "Here is an empirical histogram of the 5000 bootstrapped medians. The green dot is the population parameter: it is the median of the entire population, which is what we are trying to estimate. In this example we happen to know its value, but we did not use it in the bootstrap process."
   ]
  },
  {
   "cell_type": "markdown",
   "id": "a0f6c174",
   "metadata": {},
   "source": [
    "* It is important to remember that the green dot is fixed: it is 71847.03 dollars, the population median. \n",
    "* The empirical histogram is the result of random draws, and will be situated randomly relative to the green dot.\n",
    "* Our estimates are all the randomly generated sampled medians whose histogram you see above. We want the set of these estimates to contain the parameter. If it doesn’t, then the estimates are off."
   ]
  },
  {
   "cell_type": "markdown",
   "id": "9671918c",
   "metadata": {},
   "source": [
    "Do the Estimates Capture the Parameter?\n",
    "* How often does the empirical histogram of the resampled medians sit firmly over the green dot?\n",
    "* Lets assume that \"firmly\" means “the middle 95% of the resampled medians contains the green dot”\n",
    "\n",
    "\n",
    "Here are the two ends of the “middle 95%” interval of resampled medians:"
   ]
  },
  {
   "cell_type": "code",
   "execution_count": 79,
   "id": "5ebc56f3",
   "metadata": {},
   "outputs": [
    {
     "data": {
      "text/plain": [
       "69626.96"
      ]
     },
     "execution_count": 79,
     "metadata": {},
     "output_type": "execute_result"
    }
   ],
   "source": [
    "left = percentile(2.5, bstrap_medians)\n",
    "left"
   ]
  },
  {
   "cell_type": "code",
   "execution_count": 80,
   "id": "a1b1d80e",
   "metadata": {},
   "outputs": [
    {
     "data": {
      "text/plain": [
       "76457.25"
      ]
     },
     "execution_count": 80,
     "metadata": {},
     "output_type": "execute_result"
    }
   ],
   "source": [
    "right = percentile(97.5, bstrap_medians)\n",
    "right"
   ]
  },
  {
   "cell_type": "markdown",
   "id": "9d8d6fc1",
   "metadata": {},
   "source": [
    "The population median of 71847.03 dollars is between these two numbers. The interval and the population median are shown on the histogram below."
   ]
  },
  {
   "cell_type": "code",
   "execution_count": 82,
   "id": "60c7743c",
   "metadata": {},
   "outputs": [
    {
     "data": {
      "image/png": "[encoded data removed]",
      "text/plain": [
       "<Figure size 432x288 with 1 Axes>"
      ]
     },
     "metadata": {},
     "output_type": "display_data"
    }
   ],
   "source": [
    "resampled_medians.hist()\n",
    "\n",
    "# Plotting parameters; you can ignore this code\n",
    "plots.ylim(-0.000005, 0.00014)\n",
    "plots.plot([left, right], [0, 0], color='yellow', lw=3, zorder=1)\n",
    "plots.scatter(pop_median, 0, color=parameter_green, s=40, zorder=2);"
   ]
  },
  {
   "cell_type": "markdown",
   "id": "e2dbb039",
   "metadata": {},
   "source": [
    "The “middle 95%” interval of estimates captured the parameter in our example. But was that a fluke?"
   ]
  },
  {
   "cell_type": "markdown",
   "id": "3ecb1056",
   "metadata": {},
   "source": [
    "To see how frequently the interval contains the parameter, we have to run the entire process over and over again. Specifically, we will replicate the following process 100 times:"
   ]
  },
  {
   "cell_type": "code",
   "execution_count": 86,
   "id": "eb29563a",
   "metadata": {},
   "outputs": [],
   "source": [
    "def bootstrap_median(original_sample, num_repetitions):\n",
    "    medians = make_array()\n",
    "    for i in np.arange(num_repetitions):\n",
    "        new_bstrap_sample = original_sample.sample()\n",
    "        new_bstrap_median = percentile(50, new_bstrap_sample.column('Annual Salary'))\n",
    "        medians = np.append(medians, new_bstrap_median)\n",
    "    return medians"
   ]
  },
  {
   "cell_type": "code",
   "execution_count": 88,
   "id": "3d24f04d",
   "metadata": {},
   "outputs": [],
   "source": [
    "left_ends = make_array()\n",
    "right_ends = make_array()\n",
    "\n",
    "for i in np.arange(100):\n",
    "    original_sample = fc2020.sample(500, with_replacement=False)\n",
    "    medians = bootstrap_median(original_sample, 5000)\n",
    "    left_ends = np.append(left_ends, percentile(2.5, medians))\n",
    "    right_ends = np.append(right_ends, percentile(97.5, medians))\n",
    "\n",
    "intervals = Table().with_columns(\n",
    "    'Left', left_ends,\n",
    "    'Right', right_ends\n",
    ")    "
   ]
  },
  {
   "cell_type": "code",
   "execution_count": 89,
   "id": "61f87400",
   "metadata": {},
   "outputs": [
    {
     "data": {
      "text/html": [
       "<table border=\"1\" class=\"dataframe\">\n",
       "    <thead>\n",
       "        <tr>\n",
       "            <th>Left</th> <th>Right</th>\n",
       "        </tr>\n",
       "    </thead>\n",
       "    <tbody>\n",
       "        <tr>\n",
       "            <td>69010  </td> <td>78157.2</td>\n",
       "        </tr>\n",
       "        <tr>\n",
       "            <td>68657.2</td> <td>76635  </td>\n",
       "        </tr>\n",
       "        <tr>\n",
       "            <td>69006.7</td> <td>75787.9</td>\n",
       "        </tr>\n",
       "        <tr>\n",
       "            <td>69752  </td> <td>76932  </td>\n",
       "        </tr>\n",
       "        <tr>\n",
       "            <td>68725  </td> <td>78047.4</td>\n",
       "        </tr>\n",
       "        <tr>\n",
       "            <td>68951  </td> <td>77603  </td>\n",
       "        </tr>\n",
       "        <tr>\n",
       "            <td>66008.9</td> <td>75505.4</td>\n",
       "        </tr>\n",
       "        <tr>\n",
       "            <td>66164.7</td> <td>72800  </td>\n",
       "        </tr>\n",
       "        <tr>\n",
       "            <td>66950  </td> <td>73411  </td>\n",
       "        </tr>\n",
       "        <tr>\n",
       "            <td>65641.9</td> <td>75132  </td>\n",
       "        </tr>\n",
       "    </tbody>\n",
       "</table>\n",
       "<p>... (90 rows omitted)</p>"
      ],
      "text/plain": [
       "Left    | Right\n",
       "69010   | 78157.2\n",
       "68657.2 | 76635\n",
       "69006.7 | 75787.9\n",
       "69752   | 76932\n",
       "68725   | 78047.4\n",
       "68951   | 77603\n",
       "66008.9 | 75505.4\n",
       "66164.7 | 72800\n",
       "66950   | 73411\n",
       "65641.9 | 75132\n",
       "... (90 rows omitted)"
      ]
     },
     "execution_count": 89,
     "metadata": {},
     "output_type": "execute_result"
    }
   ],
   "source": [
    "intervals"
   ]
  },
  {
   "cell_type": "code",
   "execution_count": 90,
   "id": "8f9475a6",
   "metadata": {},
   "outputs": [
    {
     "data": {
      "text/plain": [
       "71847.03"
      ]
     },
     "execution_count": 90,
     "metadata": {},
     "output_type": "execute_result"
    }
   ],
   "source": [
    "pop_median"
   ]
  },
  {
   "cell_type": "markdown",
   "id": "210dfea4",
   "metadata": {},
   "source": [
    "How many of the 100 intervals contain the population median? "
   ]
  },
  {
   "cell_type": "code",
   "execution_count": 91,
   "id": "6d6f0e1e",
   "metadata": {},
   "outputs": [
    {
     "data": {
      "text/plain": [
       "100"
      ]
     },
     "execution_count": 91,
     "metadata": {},
     "output_type": "execute_result"
    }
   ],
   "source": [
    "intervals.where(\n",
    "    'Left', are.below(pop_median)).where(\n",
    "    'Right', are.above(pop_median)).num_rows"
   ]
  },
  {
   "cell_type": "markdown",
   "id": "67b8bb6a",
   "metadata": {},
   "source": [
    "* Our estimation produced a good interval about 95% of the time.\n",
    "* We say that we are 95% confident that the process results in a good interval\n",
    "* Our interval of estimates is called a 95% confidence interval for the parameter"
   ]
  },
  {
   "cell_type": "markdown",
   "id": "f13b47f5",
   "metadata": {},
   "source": [
    "* The situation in the previous example was a bit unusual because we knew the value of the parameter\n",
    "* Usually data scientists don’t know the value of the parameter\n",
    "\n",
    "The table births contains the following variables for mother-baby pairs: the baby’s birth weight in ounces, the number of gestational days (the number of days the mother was pregnant), the mother’s age in completed years, the mother’s height in inches, pregnancy weight in pounds, and whether or not the mother smoked during pregnancy."
   ]
  },
  {
   "cell_type": "code",
   "execution_count": 92,
   "id": "d53e8173",
   "metadata": {},
   "outputs": [],
   "source": [
    "births = Table.read_table('baby.csv')"
   ]
  },
  {
   "cell_type": "code",
   "execution_count": 93,
   "id": "8367619e",
   "metadata": {},
   "outputs": [
    {
     "data": {
      "text/html": [
       "<table border=\"1\" class=\"dataframe\">\n",
       "    <thead>\n",
       "        <tr>\n",
       "            <th>Birth Weight</th> <th>Gestational Days</th> <th>Maternal Age</th> <th>Maternal Height</th> <th>Maternal Pregnancy Weight</th> <th>Maternal Smoker</th>\n",
       "        </tr>\n",
       "    </thead>\n",
       "    <tbody>\n",
       "        <tr>\n",
       "            <td>120         </td> <td>284             </td> <td>27          </td> <td>62             </td> <td>100                      </td> <td>False          </td>\n",
       "        </tr>\n",
       "        <tr>\n",
       "            <td>113         </td> <td>282             </td> <td>33          </td> <td>64             </td> <td>135                      </td> <td>False          </td>\n",
       "        </tr>\n",
       "        <tr>\n",
       "            <td>128         </td> <td>279             </td> <td>28          </td> <td>64             </td> <td>115                      </td> <td>True           </td>\n",
       "        </tr>\n",
       "    </tbody>\n",
       "</table>\n",
       "<p>... (1171 rows omitted)</p>"
      ],
      "text/plain": [
       "<IPython.core.display.HTML object>"
      ]
     },
     "metadata": {},
     "output_type": "display_data"
    }
   ],
   "source": [
    "births.show(3)"
   ]
  },
  {
   "cell_type": "markdown",
   "id": "ba3f35e1",
   "metadata": {},
   "source": [
    "* Birth weight is an important factor in the health of a newborn infant.\n",
    "* We will consider the relationship between birth weight and the number of gestational days."
   ]
  },
  {
   "cell_type": "code",
   "execution_count": 94,
   "id": "bbe32498",
   "metadata": {},
   "outputs": [
    {
     "data": {
      "text/html": [
       "<table border=\"1\" class=\"dataframe\">\n",
       "    <thead>\n",
       "        <tr>\n",
       "            <th>Birth Weight</th> <th>Gestational Days</th> <th>Ratio BW:GD</th>\n",
       "        </tr>\n",
       "    </thead>\n",
       "    <tbody>\n",
       "        <tr>\n",
       "            <td>120         </td> <td>284             </td> <td>0.422535   </td>\n",
       "        </tr>\n",
       "        <tr>\n",
       "            <td>113         </td> <td>282             </td> <td>0.400709   </td>\n",
       "        </tr>\n",
       "        <tr>\n",
       "            <td>128         </td> <td>279             </td> <td>0.458781   </td>\n",
       "        </tr>\n",
       "        <tr>\n",
       "            <td>108         </td> <td>282             </td> <td>0.382979   </td>\n",
       "        </tr>\n",
       "        <tr>\n",
       "            <td>136         </td> <td>286             </td> <td>0.475524   </td>\n",
       "        </tr>\n",
       "        <tr>\n",
       "            <td>138         </td> <td>244             </td> <td>0.565574   </td>\n",
       "        </tr>\n",
       "        <tr>\n",
       "            <td>132         </td> <td>245             </td> <td>0.538776   </td>\n",
       "        </tr>\n",
       "        <tr>\n",
       "            <td>120         </td> <td>289             </td> <td>0.415225   </td>\n",
       "        </tr>\n",
       "        <tr>\n",
       "            <td>143         </td> <td>299             </td> <td>0.478261   </td>\n",
       "        </tr>\n",
       "        <tr>\n",
       "            <td>140         </td> <td>351             </td> <td>0.39886    </td>\n",
       "        </tr>\n",
       "    </tbody>\n",
       "</table>\n",
       "<p>... (1164 rows omitted)</p>"
      ],
      "text/plain": [
       "Birth Weight | Gestational Days | Ratio BW:GD\n",
       "120          | 284              | 0.422535\n",
       "113          | 282              | 0.400709\n",
       "128          | 279              | 0.458781\n",
       "108          | 282              | 0.382979\n",
       "136          | 286              | 0.475524\n",
       "138          | 244              | 0.565574\n",
       "132          | 245              | 0.538776\n",
       "120          | 289              | 0.415225\n",
       "143          | 299              | 0.478261\n",
       "140          | 351              | 0.39886\n",
       "... (1164 rows omitted)"
      ]
     },
     "execution_count": 94,
     "metadata": {},
     "output_type": "execute_result"
    }
   ],
   "source": [
    "ratios = births.select('Birth Weight', 'Gestational Days').with_columns(\n",
    "    'Ratio BW:GD', births.column('Birth Weight')/births.column('Gestational Days')\n",
    ")\n",
    "ratios"
   ]
  },
  {
   "cell_type": "code",
   "execution_count": 95,
   "id": "da1c87ce",
   "metadata": {},
   "outputs": [
    {
     "data": {
      "image/png": "[encoded data removed]",
      "text/plain": [
       "<Figure size 432x288 with 1 Axes>"
      ]
     },
     "metadata": {},
     "output_type": "display_data"
    }
   ],
   "source": [
    "ratios.select('Ratio BW:GD').hist()"
   ]
  },
  {
   "cell_type": "markdown",
   "id": "4d092250",
   "metadata": {},
   "source": [
    "At first glance the histogram looks quite symmetric, with the density at its maximum over the interval 0.4 ounces per day to 0.45 ounces per day. But a closer look reveals that some of the ratios were quite large by comparison."
   ]
  },
  {
   "cell_type": "code",
   "execution_count": 96,
   "id": "656837a2",
   "metadata": {},
   "outputs": [
    {
     "data": {
      "text/html": [
       "<table border=\"1\" class=\"dataframe\">\n",
       "    <thead>\n",
       "        <tr>\n",
       "            <th>Birth Weight</th> <th>Gestational Days</th> <th>Ratio BW:GD</th>\n",
       "        </tr>\n",
       "    </thead>\n",
       "    <tbody>\n",
       "        <tr>\n",
       "            <td>116         </td> <td>148             </td> <td>0.783784   </td>\n",
       "        </tr>\n",
       "    </tbody>\n",
       "</table>"
      ],
      "text/plain": [
       "Birth Weight | Gestational Days | Ratio BW:GD\n",
       "116          | 148              | 0.783784"
      ]
     },
     "execution_count": 96,
     "metadata": {},
     "output_type": "execute_result"
    }
   ],
   "source": [
    "ratios.sort('Ratio BW:GD', descending=True).take(0)"
   ]
  },
  {
   "cell_type": "code",
   "execution_count": 97,
   "id": "9fbb0e0f",
   "metadata": {},
   "outputs": [
    {
     "data": {
      "text/plain": [
       "0.42907801418439717"
      ]
     },
     "execution_count": 97,
     "metadata": {},
     "output_type": "execute_result"
    }
   ],
   "source": [
    "percentile(50, ratios.column(2))"
   ]
  },
  {
   "cell_type": "markdown",
   "id": "029e5285",
   "metadata": {},
   "source": [
    "But what was the median in the population? "
   ]
  },
  {
   "cell_type": "markdown",
   "id": "4af33ae8",
   "metadata": {},
   "source": [
    "We will start by defining a function one_bootstrap_median. It will bootstrap the sample and return one the median ratio in the bootstrapped sample."
   ]
  },
  {
   "cell_type": "code",
   "execution_count": 98,
   "id": "5c0d41bd",
   "metadata": {},
   "outputs": [],
   "source": [
    "def one_bootstrap_median():\n",
    "    resample = ratios.sample()\n",
    "    return percentile(50, resample.column('Ratio BW:GD'))"
   ]
  },
  {
   "cell_type": "code",
   "execution_count": 157,
   "id": "a43711b4",
   "metadata": {},
   "outputs": [
    {
     "data": {
      "text/plain": [
       "0.43018867924528303"
      ]
     },
     "execution_count": 157,
     "metadata": {},
     "output_type": "execute_result"
    }
   ],
   "source": [
    "one_bootstrap_median()"
   ]
  },
  {
   "cell_type": "markdown",
   "id": "72f1ce0c",
   "metadata": {},
   "source": [
    "Now we can use a for loop to generate 5000 bootstrapped medians."
   ]
  },
  {
   "cell_type": "code",
   "execution_count": 148,
   "id": "3427cd37",
   "metadata": {},
   "outputs": [],
   "source": [
    "# Generate medians from 5000 bootstrap samples\n",
    "num_repetitions = 5000\n",
    "bstrap_medians = make_array()\n",
    "for i in np.arange(num_repetitions):\n",
    "    bstrap_medians = np.append(bstrap_medians, one_bootstrap_median())"
   ]
  },
  {
   "cell_type": "code",
   "execution_count": 158,
   "id": "e26b4f28",
   "metadata": {},
   "outputs": [
    {
     "data": {
      "text/plain": [
       "array([0.42545455, 0.43262411])"
      ]
     },
     "execution_count": 158,
     "metadata": {},
     "output_type": "execute_result"
    }
   ],
   "source": [
    "left = percentile(2.5, bstrap_medians)\n",
    "right = percentile(97.5, bstrap_medians)\n",
    "\n",
    "make_array(left, right)"
   ]
  },
  {
   "cell_type": "markdown",
   "id": "ceb13ce8",
   "metadata": {},
   "source": [
    "The 95% confidence interval goes from about 0.425 ounces per day to about 0.433 ounces per day."
   ]
  },
  {
   "cell_type": "code",
   "execution_count": 159,
   "id": "8ba46bd1",
   "metadata": {},
   "outputs": [
    {
     "data": {
      "image/png": "[encoded data removed]",
      "text/plain": [
       "<Figure size 432x288 with 1 Axes>"
      ]
     },
     "metadata": {},
     "output_type": "display_data"
    }
   ],
   "source": [
    "resampled_medians = Table().with_columns(\n",
    "    'Bootstrap Sample Median', bstrap_medians\n",
    ")\n",
    "resampled_medians.hist(bins=15)\n",
    "plots.plot([left, right], [0, 0], color='yellow', lw=8);"
   ]
  },
  {
   "cell_type": "markdown",
   "id": "589570e6",
   "metadata": {},
   "source": [
    "We just have an interval of estimates. It is a 95% confidence interval of estimates, because the process that generates it produces a good interval about 95% of the time. That certainly beats guessing the ratio at random! However, there is no green dot showing where the parameter is because we don’t know where that dot should be, or whether it is even in the interval."
   ]
  },
  {
   "cell_type": "markdown",
   "id": "5cbdbd76",
   "metadata": {},
   "source": [
    "The bootstrap is an elegant and powerful method. Before using it, it is important to keep some points in mind.\n",
    "\n",
    "* Start with a large random sample. \n",
    "* To approximate the probability distribution of a statistic, it is a good idea to replicate the resampling procedure as many times as possible.\n",
    "* The bootstrap percentile method works well for estimating the population median or mean based on a large random sample. However, it has limitations, as do all methods of estimation. For example, it is not expected to do well in the following situations.\n",
    "    * The goal is to estimate the minimum or maximum value in the population, or a very low or very high percentile, or parameters that are greatly influenced by rare elements of the population.\n",
    "    * The probability distribution of the statistic is not roughly bell shaped.\n",
    "    * The original sample is very small, say less than 10 or 15.\n"
   ]
  },
  {
   "cell_type": "code",
   "execution_count": null,
   "id": "6ac7ed4a",
   "metadata": {},
   "outputs": [],
   "source": []
  }
 ],
 "metadata": {
  "kernelspec": {
   "display_name": "Python 3 (ipykernel)",
   "language": "python",
   "name": "python3"
  },
  "language_info": {
   "codemirror_mode": {
    "name": "ipython",
    "version": 3
   },
   "file_extension": ".py",
   "mimetype": "text/x-python",
   "name": "python",
   "nbconvert_exporter": "python",
   "pygments_lexer": "ipython3",
   "version": "3.7.1"
  }
 },
 "nbformat": 4,
 "nbformat_minor": 5
}
